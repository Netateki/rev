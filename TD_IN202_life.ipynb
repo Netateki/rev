{
 "cells": [
  {
   "cell_type": "markdown",
   "metadata": {},
   "source": [
    "# Jeu de la vie\n",
    "  Le jeu de la vie est un automate cellulaire à 2 dimensions. Le voisinage d'une cellule est constitué des 8 cellules qui l'entourent. Comme on travaille sur une grille finie on considère qu'elle a la forme d'un tore : la ligne du bas et celle du haut communiquent, et la colonne de gauche et la colonne de droite communiquent. La règle d'évolution du jeu de la vie est donnée par les règles suivantes:\n",
    "\n",
    "\n",
    "  \n",
    "  - si une case morte est entourée de trois cases vivantes elle devient\n",
    "    vivante;\n",
    "  - si une case vivante est entourée de deux ou trois cases vivantes elle reste vivante;\n",
    "  - dans tous les autres cas, la case reste ou devient morte;\n",
    "  "
   ]
  },
  {
   "cell_type": "markdown",
   "metadata": {},
   "source": [
    "Le nombre des cases est donnée par la constante `CASES` et le côté d'une case en nombre de pixels\n",
    "par la constante `COTE`. Définir les constantes `HAUTEUR` et `LARGEUR` qui donnent la taille du canevas qui va afficher le jeu de la vie. Créer ce canevas qu'il faut appeler `canvas`."
   ]
  },
  {
   "cell_type": "code",
   "execution_count": 145,
   "metadata": {},
   "outputs": [],
   "source": [
    "CASES = 10\n",
    "COTE = 100\n",
    "HEIGHT = 1000\n",
    "WIDTH  = 1000"
   ]
  },
  {
   "cell_type": "markdown",
   "metadata": {},
   "source": [
    "On considère un tableau à deux dimensions `etat_grille`, de CASES*CASES qui représente les cases du jeu de la vie. Déclarer ce tableau et l'initialiser pour représenter uniquement des cases mortes (0 pour les cases mortes et 1 pour les vivantes)."
   ]
  },
  {
   "source": [
    "etat_grille = [[0] * CASES for i in range(CASES)]"
   ],
   "cell_type": "code",
   "metadata": {},
   "execution_count": 146,
   "outputs": []
  },
  {
   "cell_type": "markdown",
   "metadata": {},
   "source": [
    "Ajouter le code fournit en dessous. La fonction `affiche_vivante(i,j)` permet d'afficher la cellule (i,j) comme vivante alors que `affiche_morte(i,j)` permet d'afficher la cellule (i,j) comme morte.\n",
    "Programmer une fonction `modifie(i,j)` qui modifie l'état (i,j) de etat_grille et met à jour l'affichage à l'aide des fonctions précédentes."
   ]
  },
  {
   "cell_type": "code",
   "execution_count": 147,
   "metadata": {},
   "outputs": [],
   "source": [
    "\n",
    "gestion_canvas = [[0] * CASES for i in range(CASES)]\n",
    "\n",
    "def affiche_vivant(i,j):   #agit sur gestion_canvas et l'affichage du canevas \n",
    "    gestion_canvas[i][j] = canvas.create_rectangle((i*COTE,j*COTE),((i+1)*COTE,(j+1)*COTE), fill = \"red\")\n",
    "\n",
    "def affiche_mort(i,j):   #agit sur gestion_canvas et l'affichage du canevas \n",
    "    canvas.delete(gestion_canvas[i][j])\n",
    "    gestion_canvas[i][j] = 0"
   ]
  },
  {
   "cell_type": "code",
   "execution_count": 148,
   "metadata": {},
   "outputs": [],
   "source": [
    "def modifie(event):\n",
    "    i = event.x // COTE\n",
    "    j = event.y // COTE\n",
    "    global etat_grille\n",
    "    if etat_grille[i][j]== 0:\n",
    "        etat_grille[i][j]= 1\n",
    "        affiche_vivant(i, j)\n",
    "    else:\n",
    "        etat_grille[i][j]= 0\n",
    "        affiche_mort(i, j)"
   ]
  },
  {
   "cell_type": "code",
   "execution_count": 149,
   "metadata": {},
   "outputs": [],
   "source": [
    "def regle_vie(i, j, etat_grille):\n",
    "    new_etat = 0\n",
    "    count = -etat_grille[i][j]\n",
    "    for k in range(i-1, i+2):\n",
    "        for l in range(j-1, j+2):\n",
    "            if etat_grille[k%CASES][l] == 1:\n",
    "                count += 1\n",
    "    if count == 3:\n",
    "      new_etat = 1\n",
    "    elif count == 2 and etat_grille[i][j]== 1:\n",
    "        new_etat = 1\n",
    "    else:\n",
    "        new_etat = 0\n",
    "    return new_etat"
   ]
  },
  {
   "cell_type": "code",
   "execution_count": 150,
   "metadata": {},
   "outputs": [],
   "source": [
    "def update(ancien_etat,nouvel_etat):\n",
    "    for i in range(CASES):\n",
    "        for j in range(CASES):\n",
    "            if nouvel_etat[i][j] != ancien_etat[i][j]:\n",
    "                if nouvel_etat_[i][j] == 1:\n",
    "                    affiche_vivant\n",
    "                else:\n",
    "                    affiche_mort"
   ]
  },
  {
   "cell_type": "code",
   "execution_count": 151,
   "metadata": {},
   "outputs": [],
   "source": [
    "def suivant():\n",
    "    nouvel_etat = [[0] * CASES for i in range(CASES)]\n",
    "    for i in range(CASES):\n",
    "        for j in range(CASES):\n",
    "            nouvel_etat[i][j] = regle_vie(i, j, etat_grille)\n",
    "    update(etat_grille, nouvel_etat)\n",
    "    etat_grille = nouvel_etat"
   ]
  },
  {
   "cell_type": "markdown",
   "metadata": {},
   "source": [
    "a- À l'aide de la méthode `canvas.bind` appeler la fonction `modifie` quand on clique sur le canevas.\n",
    "Que doit-on changer si on veut appeler directement `modifie` sans passer par une fonction intermédiaire ?\n",
    "- Créer une fonction `regle_vie(i,j,etat_grille)` qui décide si la case de coordonnée (i,j) doit devenir vivante ou morte.\n",
    "- Écrire une fonction `suivant()` qui à partir de etat_grille calcule le nouvel état en utilisant `regle_vie(i,j,etat_grille)` sur chaque cellule (i,j). Lier cette fonction à un bouton qu'on ajoutera à l'interface.\n",
    "- Écrire la fonction `update(ancien_etat,nouvel_etat)` qui met à jour l'affichage en partant de l'`ancien_etat` de la grille tel qu'affiché et le `nouvel_état` qu'on veut afficher. Appeler cette fonction dans la fonction suivant pour mettre à jour l'affichage.\n",
    "- Ajouter un bouton jouer et stop de façon à ce que jouer lance en boucle la simulation du jeu de la vie et stop l'arrête. Pour répéter une fonction à intervalle régulier, on rapelle que `racine.after(1000,fonction)` exécute `fonction()` après 1000 ms."
   ]
  },
  {
   "cell_type": "markdown",
   "metadata": {},
   "source": [
    "- Vérifier votre programme à partir d'exemples simples donnés sur la page Wikipedia.\n",
    "- Tester une collision entre un vaisseau et un autre vaisseau, et entre vaisseau et une figure stable.\n",
    "- Montrer que le jeu de la vie ne conserve pas le nombre de cellules vivantes au cours du temps.\n",
    "- Le nombre de cellules vivantes peut il croitre à l'infini?\n",
    "- Peut-on remonter l'automate dans le temps de manière unique?\n",
    "- Modifier les règles du jeu de la vie (automate ``life-like'') et faire des tests sur différentes configurations. Plus précisément, il faut choisir les valeurs pour lesquelles une cellule morte devient vivante (3 pour le jeu de la vie), et pour lesquelles elle reste vivante (2 et 3 pour le jeu de la vie).\n",
    "- Trouver un automate ``life-like'' qui rende stable la configuration \n",
    "\n",
    "        0010\n",
    "        1101\n",
    "\n",
    "- Existe-t'il un automate ``life-like'' qui conserve le nombre de cellules vivantes au cours du temps?"
   ]
  },
  {
   "cell_type": "code",
   "execution_count": 152,
   "metadata": {},
   "outputs": [
    {
     "output_type": "error",
     "ename": "SyntaxError",
     "evalue": "positional argument follows keyword argument (<ipython-input-152-734f74a7c167>, line 8)",
     "traceback": [
      "\u001b[1;36m  File \u001b[1;32m\"<ipython-input-152-734f74a7c167>\"\u001b[1;36m, line \u001b[1;32m8\u001b[0m\n\u001b[1;33m    boutton_suivant = tk.Button(racine, text=\"Suivant\", suivant)\u001b[0m\n\u001b[1;37m                                                        ^\u001b[0m\n\u001b[1;31mSyntaxError\u001b[0m\u001b[1;31m:\u001b[0m positional argument follows keyword argument\n"
     ]
    }
   ],
   "source": [
    "import tkinter as tk\n",
    "racine=tk.Tk()\n",
    "racine.title(\"Jeu de la vie\")\n",
    "\n",
    "canvas = tk.Canvas(racine, width=WIDTH, height=HEIGHT, bg=\"black\")\n",
    "canvas.grid(row=0)\n",
    "\n",
    "boutton_suivant = tk.Button(racine, text=\"Suivant\")\n",
    "boutton_suivant.grid(row=0, column=1)\n",
    "\n",
    "canvas.bind(\"<Button-1>\", modifie)\n",
    "\n",
    "racine.mainloop()"
   ]
  },
  {
   "cell_type": "code",
   "execution_count": null,
   "metadata": {},
   "outputs": [],
   "source": []
  }
 ],
 "metadata": {
  "kernelspec": {
   "name": "python3",
   "display_name": "Python 3.8.8 64-bit ('miniconda': conda)"
  },
  "language_info": {
   "codemirror_mode": {
    "name": "ipython",
    "version": 3
   },
   "file_extension": ".py",
   "mimetype": "text/x-python",
   "name": "python",
   "nbconvert_exporter": "python",
   "pygments_lexer": "ipython3",
   "version": "3.8.8"
  }
 },
 "nbformat": 4,
 "nbformat_minor": 2
}